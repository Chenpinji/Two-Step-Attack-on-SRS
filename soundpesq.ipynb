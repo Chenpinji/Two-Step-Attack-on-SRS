{
 "cells": [
  {
   "cell_type": "code",
   "execution_count": 2,
   "metadata": {},
   "outputs": [
    {
     "name": "stdout",
     "output_type": "stream",
     "text": [
      "2.52195405960083\n",
      "3.0234618186950684\n",
      "2.8588829040527344\n",
      "2.9313786029815674\n"
     ]
    }
   ],
   "source": [
    "import soundfile as sf\n",
    "from pypesq import pesq\n",
    "\n",
    "ref, sr = sf.read(\"/mnt/data/Chenpinji/cmu_dataset/cmu1/wav/arctic_a0093.wav\")\n",
    "deg, sr = sf.read(\"/mnt/data/Chenpinji/xvectorAudio/final/cmu1_93cmu6_8_snr2109_sc6073_mean80.wav\")\n",
    "score = pesq(ref, deg, sr)\n",
    "print(score)\n",
    "ref, sr = sf.read(\"/mnt/data/Chenpinji/cmu_dataset/cmu3/wav/arctic_a0002.wav\")\n",
    "deg, sr = sf.read(\"/mnt/data/Chenpinji/xvectorAudio/final/cmu3_2cmu7_8_snr2479_sc6243.wav\")\n",
    "score = pesq(ref, deg, sr)\n",
    "print(score)\n",
    "ref, sr = sf.read(\"/mnt/data/Chenpinji/cmu_dataset/cmu_canadian/wav/arctic_a0093.wav\")\n",
    "deg, sr = sf.read(\"/mnt/data/Chenpinji/xvectorAudio/final/cmuCa_93cmu1_8_snr2518_sc6011.wav\")\n",
    "score = pesq(ref, deg, sr)\n",
    "print(score)\n",
    "ref, sr = sf.read(\"/mnt/data/Chenpinji/cmu_dataset/cmu_canadian/wav/arctic_a0133.wav\")\n",
    "deg, sr = sf.read(\"/mnt/data/Chenpinji/xvectorAudio/final/cmuCa_133cmuSco_8_snr2552_sco6302.wav\")\n",
    "score = pesq(ref, deg, sr)\n",
    "print(score)"
   ]
  }
 ],
 "metadata": {
  "kernelspec": {
   "display_name": "Voxcloak",
   "language": "python",
   "name": "voxcloak"
  },
  "language_info": {
   "codemirror_mode": {
    "name": "ipython",
    "version": 3
   },
   "file_extension": ".py",
   "mimetype": "text/x-python",
   "name": "python",
   "nbconvert_exporter": "python",
   "pygments_lexer": "ipython3",
   "version": "3.7.16"
  },
  "orig_nbformat": 4
 },
 "nbformat": 4,
 "nbformat_minor": 2
}
