{
 "cells": [
  {
   "cell_type": "code",
   "execution_count": 2,
   "metadata": {},
   "outputs": [
    {
     "name": "stdout",
     "output_type": "stream",
     "text": [
      "2.9095401763916016\n"
     ]
    }
   ],
   "source": [
    "import soundfile as sf\n",
    "from pypesq import pesq\n",
    "\n",
    "ref, sr = sf.read(\"/mnt/data/Chenpinji/cmu_dataset/cmu2/wav/arctic_a0033.wav\")\n",
    "deg, sr = sf.read(\"/mnt/data/Chenpinji/xvectorAudio/mp3/xGen_1400.wav\")\n",
    "score = pesq(ref, deg, sr)\n",
    "print(score)\n",
    "# ref, sr = sf.read(\"/mnt/data/Chenpinji/cmu_dataset/cmu3/wav/arctic_a0002.wav\")\n",
    "# deg, sr = sf.read(\"/mnt/data/Chenpinji/xvectorAudio/final/cmu3_2cmu7_8_snr2479_sc6243.wav\")\n",
    "# score = pesq(ref, deg, sr)\n",
    "# print(score)\n",
    "# ref, sr = sf.read(\"/mnt/data/Chenpinji/cmu_dataset/cmu_canadian/wav/arctic_a0093.wav\")\n",
    "# deg, sr = sf.read(\"/mnt/data/Chenpinji/xvectorAudio/final/cmuCa_93cmu1_8_snr2518_sc6011.wav\")\n",
    "# score = pesq(ref, deg, sr)\n",
    "# print(score)\n",
    "# ref, sr = sf.read(\"/mnt/data/Chenpinji/cmu_dataset/cmu_canadian/wav/arctic_a0133.wav\")\n",
    "# deg, sr = sf.read(\"/mnt/data/Chenpinji/xvectorAudio/final/cmuCa_133cmuSco_8_snr2552_sco6302.wav\")\n",
    "# score = pesq(ref, deg, sr)\n",
    "# print(score)"
   ]
  }
 ],
 "metadata": {
  "kernelspec": {
   "display_name": "Voxcloak",
   "language": "python",
   "name": "voxcloak"
  },
  "orig_nbformat": 4
 },
 "nbformat": 4,
 "nbformat_minor": 2
}
